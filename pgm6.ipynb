{
 "cells": [
  {
   "cell_type": "code",
   "execution_count": 13,
   "metadata": {},
   "outputs": [
    {
     "name": "stdout",
     "output_type": "stream",
     "text": [
      "Total instances in the dataset: 18\n"
     ]
    }
   ],
   "source": [
    "import pandas as pd\n",
    "msg=pd.read_csv('P6_naivetext1.csv',names=['message','label'])\n",
    "print('Total instances in the dataset:',msg.shape[0])\n",
    "msg['a']=msg.label.map({'pos':1,'neg':0})\n",
    "X=msg.message\n",
    "Y=msg.a"
   ]
  },
  {
   "cell_type": "code",
   "execution_count": 14,
   "metadata": {},
   "outputs": [
    {
     "name": "stdout",
     "output_type": "stream",
     "text": [
      "\n",
      "The message and its label of first 5 instances are listed below\n",
      "I love this sandwich , pos\n",
      "This is an amazing place , pos\n",
      "I feel very good about these beers , pos\n",
      "This is my best work , pos\n",
      "What an awesome view , pos\n"
     ]
    }
   ],
   "source": [
    "print('\\nThe message and its label of first 5 instances are listed below') \n",
    "X5, Y5 = X[0:5], msg.label[0:5]\n",
    "for x, y in zip(X5,Y5): \n",
    "    print(x,',',y)"
   ]
  },
  {
   "cell_type": "code",
   "execution_count": 16,
   "metadata": {},
   "outputs": [
    {
     "name": "stdout",
     "output_type": "stream",
     "text": [
      "\n",
      "Dataset is split into Training and Testing samples\n",
      "Total training instances : 13\n",
      "Total testing instances : 5\n",
      "Total training instances : 13\n",
      "Total testing instances : 5\n"
     ]
    }
   ],
   "source": [
    "#splitting the dataset into train and test data\n",
    "from sklearn.model_selection import train_test_split\n",
    "xtrain,xtest,ytrain,ytest=train_test_split(X,Y)\n",
    "print('\\nDataset is split into Training and Testing samples') \n",
    "print('Total training instances :', xtrain.shape[0]) \n",
    "print('Total testing instances :', xtest.shape[0])"
   ]
  },
  {
   "cell_type": "code",
   "execution_count": 39,
   "metadata": {},
   "outputs": [
    {
     "name": "stdout",
     "output_type": "stream",
     "text": [
      "['am', 'an', 'and', 'awesome', 'bad', 'can', 'dance', 'deal', 'do', 'enemy', 'fun', 'good', 'great', 'have', 'holiday', 'house', 'is', 'juice', 'like', 'locality', 'love', 'my', 'not', 'of', 'place', 'restaurant', 'sandwich', 'sick', 'stay', 'stuff', 'taste', 'that', 'the', 'this', 'tired', 'to', 'today', 'tomorrow', 'view', 'we', 'went', 'what', 'will', 'with']\n",
      "\n",
      "Total features extracted using CountVectorizer: 44\n"
     ]
    }
   ],
   "source": [
    "#output of count vectoriser is a sparse matrix\n",
    "# CountVectorizer - stands for 'feature extraction'\n",
    "from sklearn.feature_extraction.text import CountVectorizer\n",
    "count_vect = CountVectorizer()\n",
    "xtrain_dtm = count_vect.fit_transform(xtrain) #Sparse matrix \n",
    "xtest_dtm=count_vect.transform(xtest)\n",
    "print(count_vect.get_feature_names())\n",
    "print('\\nTotal features extracted using CountVectorizer:',xtrain_dtm.shape[1])\n",
    "\n",
    "# Training Naive Bayes (NB) classifier on training data.\n",
    "from sklearn.naive_bayes import MultinomialNB\n",
    "clf = MultinomialNB().fit(xtrain_dtm,ytrain)\n",
    "predicted = clf.predict(xtest_dtm)"
   ]
  },
  {
   "cell_type": "code",
   "execution_count": 40,
   "metadata": {},
   "outputs": [
    {
     "name": "stdout",
     "output_type": "stream",
     "text": [
      "\n",
      "Classstification results of testing samples are given below\n",
      "This is my best work 0\n",
      "This is an amazing place 1\n",
      "My boss is horrible 0\n",
      "I feel very good about these beers 1\n",
      "He is my sworn enemy 0\n",
      "\n",
      "Accuracy metrics\n",
      "\n",
      "Accuracy of the classifer is 0.8\n",
      "\n",
      "Confusion matrix\n",
      "[[2 0]\n",
      " [1 2]]\n",
      "\n",
      "Recall\n",
      "0.6666666666666666\n",
      "\n",
      "Precison \n",
      "1.0\n"
     ]
    }
   ],
   "source": [
    "print('\\nClassstification results of testing samples are given below') \n",
    "for doc, p in zip(xtest, predicted):\n",
    "    print(doc,p)\n",
    "    #pred = 'pos' if p==1 else 'neg' \n",
    "    #print('%s -> %s ' % (doc, pred))\n",
    "\n",
    "#printing accuracy metrics\n",
    "from sklearn import metrics\n",
    "print('\\nAccuracy metrics')\n",
    "print('\\nAccuracy of the classifer is',metrics.accuracy_score(ytest,predicted))\n",
    "print('\\nConfusion matrix')\n",
    "print(metrics.confusion_matrix(ytest,predicted))\n",
    "print('\\nRecall')\n",
    "print(metrics.recall_score(ytest,predicted))\n",
    "print('\\nPrecison ')\n",
    "print(metrics.precision_score(ytest,predicted))"
   ]
  },
  {
   "cell_type": "code",
   "execution_count": null,
   "metadata": {},
   "outputs": [],
   "source": []
  },
  {
   "cell_type": "code",
   "execution_count": null,
   "metadata": {},
   "outputs": [],
   "source": []
  }
 ],
 "metadata": {
  "kernelspec": {
   "display_name": "Python 3",
   "language": "python",
   "name": "python3"
  },
  "language_info": {
   "codemirror_mode": {
    "name": "ipython",
    "version": 3
   },
   "file_extension": ".py",
   "mimetype": "text/x-python",
   "name": "python",
   "nbconvert_exporter": "python",
   "pygments_lexer": "ipython3",
   "version": "3.8.3"
  }
 },
 "nbformat": 4,
 "nbformat_minor": 4
}
