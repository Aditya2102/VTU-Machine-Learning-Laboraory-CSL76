{
 "cells": [
  {
   "cell_type": "code",
   "execution_count": 30,
   "metadata": {},
   "outputs": [
    {
     "name": "stdout",
     "output_type": "stream",
     "text": [
      "['Sky', 'AirTemp', 'Humidity', 'Wind', 'Water', 'Forcast', 'EnjoySport']\n",
      "[\"'Sunny'\", \" 'Warm'\", \" 'Normal'\", \" 'Strong'\", \" 'Warm'\", \" 'Same'\", 'TRUE']\n",
      "[\"'Sunny'\", \" 'Warm'\", \" 'High'\", \" 'Strong'\", \" 'Warm'\", \" 'Same'\", 'TRUE']\n",
      "[\"'Rainy'\", \" 'Cold'\", \" 'High'\", \" 'Strong'\", \" 'Warm'\", \" 'Change'\", 'FALSE']\n",
      "[\"'Sunny'\", \" 'Warm'\", \" 'High'\", \" 'Strong'\", \" 'Cool'\", \" 'Change'\", 'TRUE']\n",
      "[\"'Sunny'\", \" 'Warm'\", '?', \" 'Strong'\", '?', '?']\n"
     ]
    }
   ],
   "source": [
    "import csv\n",
    "lines=list(csv.reader(open('P1_data.csv')));\n",
    "h=['0','0','0','0','0','0']\n",
    "for i in lines:\n",
    "    print(i)\n",
    "    if i[-1] == \"TRUE\":\n",
    "        j=0\n",
    "        for x in i:\n",
    "            if x!= \"TRUE\":\n",
    "                if x!=h[j] and h[j] =='0':\n",
    "                    h[j]=x\n",
    "                elif x!= h[j]and h[j] !='0':\n",
    "                    h[j]='?'\n",
    "                else:\n",
    "                    pass\n",
    "            j=j+1\n",
    "print(h)"
   ]
  },
  {
   "cell_type": "code",
   "execution_count": null,
   "metadata": {},
   "outputs": [],
   "source": []
  },
  {
   "cell_type": "code",
   "execution_count": null,
   "metadata": {},
   "outputs": [],
   "source": []
  }
 ],
 "metadata": {
  "kernelspec": {
   "display_name": "Python 3",
   "language": "python",
   "name": "python3"
  },
  "language_info": {
   "codemirror_mode": {
    "name": "ipython",
    "version": 3
   },
   "file_extension": ".py",
   "mimetype": "text/x-python",
   "name": "python",
   "nbconvert_exporter": "python",
   "pygments_lexer": "ipython3",
   "version": "3.8.3"
  }
 },
 "nbformat": 4,
 "nbformat_minor": 4
}
